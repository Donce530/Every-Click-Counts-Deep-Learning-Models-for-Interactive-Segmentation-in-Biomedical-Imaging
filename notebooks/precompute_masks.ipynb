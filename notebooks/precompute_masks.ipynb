{
 "cells": [
  {
   "cell_type": "code",
   "execution_count": null,
   "metadata": {},
   "outputs": [
    {
     "name": "stdout",
     "output_type": "stream",
     "text": [
      "0 tensor(0.7691)\n",
      "Done\n"
     ]
    },
    {
     "data": {
      "image/png": "[encoded data removed]",
      "text/plain": [
       "<Figure size 640x480 with 2 Axes>"
      ]
     },
     "metadata": {},
     "output_type": "display_data"
    }
   ],
   "source": [
    "import numpy as np\n",
    "import cv2\n",
    "from isegm.data.datasets import Lidc2dDataset\n",
    "from albumentations import Compose, Normalize\n",
    "from torch.utils.data import DataLoader\n",
    "from isegm.classical_approaches.snake_fill import SnakeMasker\n",
    "import matplotlib.pyplot as plt\n",
    "import os\n",
    "\n",
    "# Define paths\n",
    "train_image_path = '/gpfs/space/projects/PerkinElmer/donatasv_experiments/datasets/processed_datasets/LIDC-2D/train'\n",
    "mask_path = '/gpfs/space/projects/PerkinElmer/donatasv_experiments/datasets/processed_datasets/LIDC-2D/train/slice_annotations/'\n",
    "output_prediction_path = '/gpfs/space/projects/PerkinElmer/donatasv_experiments/datasets/processed_datasets/LIDC-2D/train/initial_masks/active_contours'\n",
    "\n",
    "# Define transformations\n",
    "transformations = Compose([Normalize(mean=0, std=1)])\n",
    "\n",
    "# Initialize datasets and data loaders\n",
    "dataset = Lidc2dDataset(train_image_path, transform=transformations)\n",
    "train_loader = DataLoader(dataset, batch_size=1, shuffle=False)\n",
    "\n",
    "# Specific parameter for SnakeMasker\n",
    "circle_size_param = 8  # or any other value you'd like to set\n",
    "masker = SnakeMasker(circle_size=circle_size_param)\n",
    "\n",
    "def get_iou(gt_mask, pred_mask, ignore_label=-1):\n",
    "    ignore_gt_mask_inv = gt_mask != ignore_label\n",
    "    obj_gt_mask = gt_mask == 1\n",
    "\n",
    "    intersection = np.logical_and(\n",
    "        np.logical_and(pred_mask, obj_gt_mask), ignore_gt_mask_inv\n",
    "    ).sum()\n",
    "    union = np.logical_and(\n",
    "        np.logical_or(pred_mask, obj_gt_mask), ignore_gt_mask_inv\n",
    "    ).sum()\n",
    "\n",
    "    return intersection / union\n",
    "\n",
    "def save_predictions_to_path(loader, masker, output_path):\n",
    "    # filenames = sorted([f for f in os.listdir(mask_path) if os.path.isfile(os.path.join(mask_path, f))])\n",
    "    for i, (image, gt_mask) in enumerate(loader):\n",
    "        image = image.squeeze().numpy()\n",
    "        \n",
    "        # Use the filename from the mask directory\n",
    "        # filename = os.path.splitext(filenames[i])[0] + '.npy'\n",
    "        # save_path = os.path.join(output_path, filename)\n",
    "        \n",
    "        num_labels, labels, stats, centroids = cv2.connectedComponentsWithStats(gt_mask[0,:,:].numpy().astype(np.uint8))\n",
    "        coordinates = [(int(centroids[label][1]), int(centroids[label][0])) for label in range(1, num_labels)]\n",
    "        predicted_mask = masker.predict(image, coordinates)\n",
    "        # fig, ax = plt.subplots(1, 2)\n",
    "        # ax[0].imshow(gt_mask[0, :, :])\n",
    "        # ax[1].imshow(predicted_mask)\n",
    "        \n",
    "        print(i, get_iou(gt_mask[0, :, :], predicted_mask))\n",
    "        \n",
    "        if i == 0:\n",
    "            break\n",
    "        \n",
    "        # Convert the predicted mask to boolean array and save as .npy\n",
    "        # bool_mask = predicted_mask.astype(bool)\n",
    "        # np.save(save_path, bool_mask)\n",
    "\n",
    "# Save predictions to path for the training set\n",
    "save_predictions_to_path(train_loader, masker, output_prediction_path)\n",
    "print('Done')\n"
   ]
  },
  {
   "cell_type": "code",
   "execution_count": null,
   "metadata": {},
   "outputs": [],
   "source": [
    "print(f'Starting:')\n",
    "\n",
    "    # Define paths\n",
    "    base_path = '/gpfs/space/projects/PerkinElmer/donatasv_experiments/datasets/processed_datasets/LIDC-2D'\n",
    "    datasets = ['train']\n",
    "\n",
    "    # Define transformations for normalization\n",
    "    transformations = Compose([Normalize(mean=0, std=1)])\n",
    "\n",
    "    # Specific parameter for SnakeMasker\n",
    "    circle_size_param = 8\n",
    "    masker = SnakeMasker(circle_size=circle_size_param)\n",
    "\n",
    "    for dataset in datasets:\n",
    "        print(f\"Processing {dataset} dataset...\")\n",
    "        dataset_path = os.path.join(base_path, dataset)\n",
    "        output_path = os.path.join(\n",
    "            base_path, dataset, 'initial_masks', 'active_contours'\n",
    "        )\n",
    "\n",
    "        transformations = Compose([Normalize(mean=0, std=1)])\n",
    "        dataset = Lidc2dDataset(data_dir=dataset_path, transform=transformations)\n",
    "\n",
    "        train_loader = DataLoader(dataset, batch_size=1, shuffle=False)\n",
    "\n",
    "        for i, (image, gt_mask) in enumerate(train_loader):\n",
    "            gt_mask = gt_mask.squeeze().numpy()\n",
    "            num_labels, labels, stats, centroids = cv2.connectedComponentsWithStats(\n",
    "                gt_mask.astype(np.uint8)\n",
    "            )\n",
    "            coords = [\n",
    "                (int(centroids[label][1]), int(centroids[label][0]))\n",
    "                for label in range(1, num_labels)\n",
    "            ]\n",
    "            labels = masker.predict(image.squeeze().numpy(), coords)\n",
    "            \n",
    "            print(i, get_iou(gt_mask, labels))\n",
    "\n",
    "            # file_path = os.path.join(output_path, dataset.file_names[i])\n",
    "            # np.save(file_path, labels.astype(bool))\n",
    "            # print(f'Saved file {i}: {file_path}')\n",
    "\n",
    "    print('Done')"
   ]
  },
  {
   "cell_type": "code",
   "execution_count": null,
   "metadata": {},
   "outputs": [],
   "source": []
  }
 ],
 "metadata": {
  "kernelspec": {
   "display_name": "Python 3 (ipykernel)",
   "language": "python",
   "name": "python3"
  },
  "language_info": {
   "codemirror_mode": {
    "name": "ipython",
    "version": 3
   },
   "file_extension": ".py",
   "mimetype": "text/x-python",
   "name": "python",
   "nbconvert_exporter": "python",
   "pygments_lexer": "ipython3",
   "version": "3.11.4"
  }
 },
 "nbformat": 4,
 "nbformat_minor": 2
}
