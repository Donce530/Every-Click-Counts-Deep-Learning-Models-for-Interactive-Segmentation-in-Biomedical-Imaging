{
 "cells": [
  {
   "cell_type": "code",
   "execution_count": 4,
   "metadata": {
    "tags": []
   },
   "outputs": [],
   "source": [
    "%matplotlib inline\n",
    "import matplotlib.pyplot as plt\n",
    "\n",
    "import sys\n",
    "import numpy as np\n",
    "import torch\n",
    "import cv2\n",
    "\n",
    "sys.path.insert(0, '..')\n",
    "from isegm.utils import vis, exp\n",
    "\n",
    "from isegm.inference import utils\n",
    "from isegm.inference.predictors import get_predictor\n",
    "from isegm.inference.clicker import Clicker, Click\n",
    "\n",
    "device = torch.device('cuda:0')\n",
    "cfg = exp.load_config_file('../config.yml', return_edict=True)"
   ]
  },
  {
   "cell_type": "code",
   "execution_count": 5,
   "metadata": {
    "tags": []
   },
   "outputs": [
    {
     "ename": "AssertionError",
     "evalue": "",
     "output_type": "error",
     "traceback": [
      "\u001b[0;31m---------------------------------------------------------------------------\u001b[0m",
      "\u001b[0;31mAssertionError\u001b[0m                            Traceback (most recent call last)",
      "\u001b[0;32m/tmp/ipykernel_22601/2944223491.py\u001b[0m in \u001b[0;36m<module>\u001b[0;34m\u001b[0m\n\u001b[1;32m      8\u001b[0m \u001b[0;31m# checkpoint_path = utils.find_checkpoint(cfg.INTERACTIVE_MODELS_PATH, 'coco_lvis_h18s_itermask')\u001b[0m\u001b[0;34m\u001b[0m\u001b[0;34m\u001b[0m\u001b[0;34m\u001b[0m\u001b[0m\n\u001b[1;32m      9\u001b[0m \u001b[0;34m\u001b[0m\u001b[0m\n\u001b[0;32m---> 10\u001b[0;31m \u001b[0mcheckpoint_path\u001b[0m \u001b[0;34m=\u001b[0m \u001b[0mutils\u001b[0m\u001b[0;34m.\u001b[0m\u001b[0mfind_checkpoint\u001b[0m\u001b[0;34m(\u001b[0m\u001b[0mcfg\u001b[0m\u001b[0;34m.\u001b[0m\u001b[0mINTERACTIVE_MODELS_PATH\u001b[0m\u001b[0;34m,\u001b[0m \u001b[0;34m'fullres_20'\u001b[0m\u001b[0;34m)\u001b[0m\u001b[0;34m\u001b[0m\u001b[0;34m\u001b[0m\u001b[0m\n\u001b[0m\u001b[1;32m     11\u001b[0m \u001b[0mmodel\u001b[0m \u001b[0;34m=\u001b[0m \u001b[0mutils\u001b[0m\u001b[0;34m.\u001b[0m\u001b[0mload_is_model\u001b[0m\u001b[0;34m(\u001b[0m\u001b[0mcheckpoint_path\u001b[0m\u001b[0;34m,\u001b[0m \u001b[0mdevice\u001b[0m\u001b[0;34m)\u001b[0m\u001b[0;34m\u001b[0m\u001b[0;34m\u001b[0m\u001b[0m\n\u001b[1;32m     12\u001b[0m \u001b[0;34m\u001b[0m\u001b[0m\n",
      "\u001b[0;32m/gpfs/space/projects/PerkinElmer/donatasv_experiments/repos/ClickSEG/isegm/inference/utils.py\u001b[0m in \u001b[0;36mfind_checkpoint\u001b[0;34m(weights_folder, checkpoint_name)\u001b[0m\n\u001b[1;32m    125\u001b[0m     \u001b[0;32melse\u001b[0m\u001b[0;34m:\u001b[0m\u001b[0;34m\u001b[0m\u001b[0;34m\u001b[0m\u001b[0m\n\u001b[1;32m    126\u001b[0m         \u001b[0mmodel_checkpoints\u001b[0m \u001b[0;34m=\u001b[0m \u001b[0mlist\u001b[0m\u001b[0;34m(\u001b[0m\u001b[0mmodel_folder\u001b[0m\u001b[0;34m.\u001b[0m\u001b[0mrglob\u001b[0m\u001b[0;34m(\u001b[0m\u001b[0;34mf'{checkpoint_name}*.pth'\u001b[0m\u001b[0;34m)\u001b[0m\u001b[0;34m)\u001b[0m\u001b[0;34m\u001b[0m\u001b[0;34m\u001b[0m\u001b[0m\n\u001b[0;32m--> 127\u001b[0;31m         \u001b[0;32massert\u001b[0m \u001b[0mlen\u001b[0m\u001b[0;34m(\u001b[0m\u001b[0mmodel_checkpoints\u001b[0m\u001b[0;34m)\u001b[0m \u001b[0;34m==\u001b[0m \u001b[0;36m1\u001b[0m\u001b[0;34m\u001b[0m\u001b[0;34m\u001b[0m\u001b[0m\n\u001b[0m\u001b[1;32m    128\u001b[0m         \u001b[0mcheckpoint_path\u001b[0m \u001b[0;34m=\u001b[0m \u001b[0mmodel_checkpoints\u001b[0m\u001b[0;34m[\u001b[0m\u001b[0;36m0\u001b[0m\u001b[0;34m]\u001b[0m\u001b[0;34m\u001b[0m\u001b[0;34m\u001b[0m\u001b[0m\n\u001b[1;32m    129\u001b[0m \u001b[0;34m\u001b[0m\u001b[0m\n",
      "\u001b[0;31mAssertionError\u001b[0m: "
     ]
    }
   ],
   "source": [
    "# Possible choices: 'GrabCut', 'Berkeley', 'DAVIS', 'COCO_MVal', 'SBD', 'BRATS', 'LIDC', 'LIDC_val'\n",
    "DATASET = 'LIDC_2D_VAL'\n",
    "dataset = utils.get_dataset(DATASET, cfg)\n",
    "\n",
    "EVAL_MAX_CLICKS = 20\n",
    "MODEL_THRESH = 0.49\n",
    "\n",
    "# checkpoint_path = utils.find_checkpoint(cfg.INTERACTIVE_MODELS_PATH, 'coco_lvis_h18s_itermask')\n",
    "\n",
    "checkpoint_path = utils.find_checkpoint(cfg.INTERACTIVE_MODELS_bPATH, 'fullres_20')\n",
    "model = utils.load_is_model(checkpoint_path, device)\n",
    "\n",
    "# Possible choices: 'NoBRS', 'f-BRS-A', 'f-BRS-B', 'f-BRS-C', 'RGB-BRS', 'DistMap-BRS', 'FocalClick'\n",
    "brs_mode = 'FocalClick'\n",
    "predictor = get_predictor(model, brs_mode, device, prob_thresh=MODEL_THRESH)"
   ]
  },
  {
   "cell_type": "code",
   "execution_count": 6,
   "metadata": {
    "tags": []
   },
   "outputs": [
    {
     "data": {
      "text/plain": [
       "{'INTERACTIVE_MODELS_PATH': './weights',\n",
       " 'EXPS_PATH': './experiments',\n",
       " 'GRABCUT_PATH': '/home/admin/workspace/project/data/datasets/GrabCut',\n",
       " 'BERKELEY_PATH': '/home/admin/workspace/project/data/datasets/Berkeley',\n",
       " 'DAVIS_PATH': '/home/admin/workspace/project/data/datasets/DAVIS',\n",
       " 'COCO_MVAL_PATH': '/home/admin/workspace/project/data/datasets/COCO_MVal',\n",
       " 'PASCALVOC_PATH': '/home/admin/workspace/project/data/datasets/VOC2012/VOCdevkit/VOC2012',\n",
       " 'DAVIS585_PATH': '/home/admin/workspace/project/data/datasets/InterDavis/Selected_480P',\n",
       " 'BRATS_VAL_PATH': '/gpfs/space/projects/PerkinElmer/donatasv_experiments/datasets/processed_datasets/BraTS_2d/val',\n",
       " 'LIDC_VAL_PATH': '/gpfs/space/projects/PerkinElmer/donatasv_experiments/datasets/processed_datasets/LIDC-2D/val',\n",
       " 'LIDC_256_VAL_PATH': '/gpfs/space/projects/PerkinElmer/donatasv_experiments/datasets/processed_datasets/LIDC-2D-256/val',\n",
       " 'SBD_PATH': '/home/admin/workspace/project/data/datasets/SBD/dataset',\n",
       " 'COCO_PATH': '/home/xizhi.cx/data/dataset/COCO',\n",
       " 'LVIS_PATH': '/home/admin/workspace/project/data/datasets/COCO_LVIS',\n",
       " 'LVIS_v1_PATH': '/home/admin/workspace/project/data/datasets/COCO_LVIS',\n",
       " 'OPENIMAGES_PATH': '/home/xizhi.cx/data/dataset/OpenImage',\n",
       " 'ADE20K_PATH': '/home/admin/workspace/project/data/datasets/ADE20K',\n",
       " 'BRATS_PATH': '/gpfs/space/projects/PerkinElmer/donatasv_experiments/datasets/processed_datasets/BraTS_2d/train',\n",
       " 'LIDC_PATH': '/gpfs/space/projects/PerkinElmer/donatasv_experiments/datasets/processed_datasets/LIDC-2D/train',\n",
       " 'LIDC_256_PATH': '/gpfs/space/projects/PerkinElmer/donatasv_experiments/datasets/processed_datasets/LIDC-2D-256/train',\n",
       " 'THINOBJECT_PATH': '/home/admin/workspace/project/data/datasets/ThinObject/ThinObject5K',\n",
       " 'MSRA10K_PATH': '/home/admin/workspace/project/data/datasets/Saliency/MSRA10K_Imgs_GT/Imgs',\n",
       " 'DUT_TR_PATH': '/home/admin/workspace/project/data/datasets/Saliency/DUTS-TR/DUTS-TR-Image',\n",
       " 'DUT_TE_PATH': '/home/admin/workspace/project/data/datasets/Saliency/DUTS-TE/DUTS-TE-Image',\n",
       " 'YTBVOS_PATH': '/home/admin/workspace/project/data/datasets/YTBVOS',\n",
       " 'HFLICKER_PATH': '/home/admin/workspace/project/data/datasets/HFlickr',\n",
       " 'IMAGENET_PRETRAINED_MODELS': {'HRNETV2_W18_SMALL': '/home/admin/workspace/project/data/weights/hrnet_w18_small_model_v2.pth',\n",
       "  'HRNETV2_W18': '/gpfs/space/projects/PerkinElmer/donatasv_experiments/repos/ritm_interactive_segmentation/pretrained_models/hrnetv2_w18_imagenet_pretrained.pth',\n",
       "  'HRNETV2_W32': '/gpfs/space/projects/PerkinElmer/donatasv_experiments/repos/ritm_interactive_segmentation/pretrained_models/hrnetv2_w32_imagenet_pretrained.pth',\n",
       "  'HRNETV2_W40': './pretrained_models/hrnetv2_w40_imagenet_pretrained.pth',\n",
       "  'HRNETV2_W48': './pretrained_models/hrnetv2_w48_imagenet_pretrained.pth',\n",
       "  'SEGFORMER_B0': '/home/admin/workspace/project/data/weights/Segformer/mit_b0.pth',\n",
       "  'SEGFORMER_B1': '/home/admin/workspace/project/data/weights/Segformer/mit_b1.pth',\n",
       "  'SEGFORMER_B3': '/home/admin/workspace/project/data/weights/Segformer/mit_b3.pth',\n",
       "  'PPLCNET_X1': '/home/admin/workspace/project/data/weights/PPLC/PP-LCNet/PPLCNet_x1_0_ssld_pretrained.pth',\n",
       "  'MOBILENETV2': '/home/admin/workspace/project/data/weights/mobilenetV2-15498621.pth'}}"
      ]
     },
     "execution_count": 6,
     "metadata": {},
     "output_type": "execute_result"
    }
   ],
   "source": [
    "cfg"
   ]
  },
  {
   "cell_type": "code",
   "execution_count": 3,
   "metadata": {},
   "outputs": [],
   "source": [
    "sample_id = 3\n",
    "TARGET_IOU = 0.95\n",
    "\n",
    "sample = dataset.get_sample(sample_id)\n",
    "\n",
    "gt_mask = sample.gt_mask\n",
    "image = sample.image\n",
    "\n",
    "# clicks_list, ious_arr, pred, pred_list = evaluate_sample(image, gt_mask, np.zeros_like(gt_mask), predictor, \n",
    "#                                               pred_thr=MODEL_THRESH, \n",
    "#                                               max_iou_thr=TARGET_IOU, max_clicks=EVAL_MAX_CLICKS,\n",
    "#                                               vis=False)\n",
    "# pred_mask = pred > MODEL_THRESH\n",
    "\n",
    "# draw = vis.draw_with_blend_and_clicks(image[:, :, :3], mask=pred_mask, clicks_list=clicks_list)\n",
    "# draw = np.concatenate((draw,\n",
    "#     255 * pred_mask[:, :, np.newaxis].repeat(3, axis=2),\n",
    "#     255 * (gt_mask > 0)[:, :, np.newaxis].repeat(3, axis=2)\n",
    "# ), axis=1)\n",
    "\n",
    "# print(ious_arr)\n",
    "\n",
    "# plt.figure(figsize=(20, 30))\n",
    "# plt.imshow(draw)\n",
    "# plt.show()"
   ]
  },
  {
   "cell_type": "code",
   "execution_count": 7,
   "metadata": {},
   "outputs": [],
   "source": [
    "def Progressive_Merge(pred_mask, previous_mask, y, x):\n",
    "    diff_regions = np.logical_xor(previous_mask, pred_mask)\n",
    "    num, labels = cv2.connectedComponents(diff_regions.astype(np.uint8))\n",
    "    label = labels[y,x]\n",
    "    corr_mask = labels == label\n",
    "    if previous_mask[y,x] == 1:\n",
    "        progressive_mask = np.logical_and( previous_mask, np.logical_not(corr_mask))\n",
    "    else:\n",
    "        progressive_mask = np.logical_or( previous_mask, corr_mask)\n",
    "    return progressive_mask"
   ]
  },
  {
   "cell_type": "code",
   "execution_count": 27,
   "metadata": {},
   "outputs": [],
   "source": [
    "clicker = Clicker(gt_mask)"
   ]
  },
  {
   "cell_type": "code",
   "execution_count": 31,
   "metadata": {},
   "outputs": [
    {
     "ename": "IndexError",
     "evalue": "list index out of range",
     "output_type": "error",
     "traceback": [
      "\u001b[0;31m---------------------------------------------------------------------------\u001b[0m",
      "\u001b[0;31mIndexError\u001b[0m                                Traceback (most recent call last)",
      "\u001b[0;32m/tmp/ipykernel_17299/2542908090.py\u001b[0m in \u001b[0;36m<module>\u001b[0;34m\u001b[0m\n\u001b[1;32m     20\u001b[0m \u001b[0;34m\u001b[0m\u001b[0m\n\u001b[1;32m     21\u001b[0m     \u001b[0;31m# clicker.make_next_click(pred_mask)\u001b[0m\u001b[0;34m\u001b[0m\u001b[0;34m\u001b[0m\u001b[0;34m\u001b[0m\u001b[0m\n\u001b[0;32m---> 22\u001b[0;31m     \u001b[0mpred_probs\u001b[0m \u001b[0;34m=\u001b[0m \u001b[0mpredictor\u001b[0m\u001b[0;34m.\u001b[0m\u001b[0mget_prediction\u001b[0m\u001b[0;34m(\u001b[0m\u001b[0mclicker\u001b[0m\u001b[0;34m)\u001b[0m\u001b[0;34m\u001b[0m\u001b[0;34m\u001b[0m\u001b[0m\n\u001b[0m\u001b[1;32m     23\u001b[0m     \u001b[0mpred_mask\u001b[0m \u001b[0;34m=\u001b[0m \u001b[0mpred_probs\u001b[0m \u001b[0;34m>\u001b[0m \u001b[0mMODEL_THRESH\u001b[0m\u001b[0;34m\u001b[0m\u001b[0;34m\u001b[0m\u001b[0m\n\u001b[1;32m     24\u001b[0m     \u001b[0;32mif\u001b[0m \u001b[0mprogressive_mode\u001b[0m\u001b[0;34m:\u001b[0m\u001b[0;34m\u001b[0m\u001b[0;34m\u001b[0m\u001b[0m\n",
      "\u001b[0;32m/gpfs/space/projects/PerkinElmer/donatasv_experiments/repos/ClickSEG/isegm/inference/predictors/focalclick.py\u001b[0m in \u001b[0;36mget_prediction\u001b[0;34m(self, clicker, prev_mask)\u001b[0m\n\u001b[1;32m     59\u001b[0m     \u001b[0;32mdef\u001b[0m \u001b[0mget_prediction\u001b[0m\u001b[0;34m(\u001b[0m\u001b[0mself\u001b[0m\u001b[0;34m,\u001b[0m \u001b[0mclicker\u001b[0m\u001b[0;34m,\u001b[0m \u001b[0mprev_mask\u001b[0m\u001b[0;34m=\u001b[0m\u001b[0;32mNone\u001b[0m\u001b[0;34m)\u001b[0m\u001b[0;34m:\u001b[0m\u001b[0;34m\u001b[0m\u001b[0;34m\u001b[0m\u001b[0m\n\u001b[1;32m     60\u001b[0m         \u001b[0mclicks_list\u001b[0m \u001b[0;34m=\u001b[0m \u001b[0mclicker\u001b[0m\u001b[0;34m.\u001b[0m\u001b[0mget_clicks\u001b[0m\u001b[0;34m(\u001b[0m\u001b[0;34m)\u001b[0m\u001b[0;34m\u001b[0m\u001b[0;34m\u001b[0m\u001b[0m\n\u001b[0;32m---> 61\u001b[0;31m         \u001b[0mclick\u001b[0m \u001b[0;34m=\u001b[0m \u001b[0mclicks_list\u001b[0m\u001b[0;34m[\u001b[0m\u001b[0;34m-\u001b[0m\u001b[0;36m1\u001b[0m\u001b[0;34m]\u001b[0m\u001b[0;34m\u001b[0m\u001b[0;34m\u001b[0m\u001b[0m\n\u001b[0m\u001b[1;32m     62\u001b[0m         \u001b[0mlast_y\u001b[0m\u001b[0;34m,\u001b[0m\u001b[0mlast_x\u001b[0m \u001b[0;34m=\u001b[0m \u001b[0mclick\u001b[0m\u001b[0;34m.\u001b[0m\u001b[0mcoords\u001b[0m\u001b[0;34m[\u001b[0m\u001b[0;36m0\u001b[0m\u001b[0;34m]\u001b[0m\u001b[0;34m,\u001b[0m\u001b[0mclick\u001b[0m\u001b[0;34m.\u001b[0m\u001b[0mcoords\u001b[0m\u001b[0;34m[\u001b[0m\u001b[0;36m1\u001b[0m\u001b[0;34m]\u001b[0m\u001b[0;34m\u001b[0m\u001b[0;34m\u001b[0m\u001b[0m\n\u001b[1;32m     63\u001b[0m         \u001b[0mself\u001b[0m\u001b[0;34m.\u001b[0m\u001b[0mlast_y\u001b[0m \u001b[0;34m=\u001b[0m \u001b[0mlast_y\u001b[0m\u001b[0;34m\u001b[0m\u001b[0;34m\u001b[0m\u001b[0m\n",
      "\u001b[0;31mIndexError\u001b[0m: list index out of range"
     ]
    }
   ],
   "source": [
    "pred_mask = np.zeros_like(gt_mask)\n",
    "prev_mask = pred_mask\n",
    "init_mask = pred_mask\n",
    "ious_list = []\n",
    "pred_mask_list = []\n",
    "clicks_list = []\n",
    "progressive_mode = True\n",
    "callback = None\n",
    "\n",
    "with torch.no_grad():\n",
    "    predictor.set_input_image(image)\n",
    "    if init_mask is not None:\n",
    "        predictor.set_prev_mask(init_mask)\n",
    "        pred_mask = init_mask\n",
    "        prev_mask = init_mask\n",
    "        num_pm = 0\n",
    "    else:\n",
    "        num_pm = 999\n",
    "    vis_pred = prev_mask\n",
    "    \n",
    "    # clicker.make_next_click(pred_mask)\n",
    "    pred_probs = predictor.get_prediction(clicker)\n",
    "    pred_mask = pred_probs > MODEL_THRESH\n",
    "    if progressive_mode:\n",
    "        clicks = clicker.get_clicks()\n",
    "        if len(clicks) >= num_pm: \n",
    "            last_click = clicks[-1]\n",
    "            last_y, last_x = last_click.coords[0], last_click.coords[1]\n",
    "            pred_mask = Progressive_Merge(pred_mask, prev_mask,last_y, last_x)\n",
    "            predictor.transforms[0]._prev_probs = np.expand_dims(np.expand_dims(pred_mask,0),0)\n",
    "\n",
    "    pred_mask_list.append(pred_mask)\n",
    "    iou = utils.get_iou(gt_mask, pred_mask)\n",
    "    ious_list.append(iou)\n",
    "    prev_mask = pred_mask\n",
    "    \n",
    "fig, ax = plt.subplots(1, 2, figsize=(10, 5))\n",
    "\n",
    "ax[0].imshow(image[:, :, 0], cmap='gray')\n",
    "y = [click.coords[0] for click in clicker.clicks_list]\n",
    "x = [click.coords[1] for click in clicker.clicks_list]\n",
    "c = ['lime' if click.is_positive else 'r' for click in clicker.clicks_list]\n",
    "ax[0].scatter(x, y, c=c, s=5)\n",
    "ax[0].set_title('Clicks')\n",
    "ax[0].contour(gt_mask, colors='blue', alpha=0.5, linewidths=0.5)\n",
    "ax[1].set_title(f'IOU: {iou:.3f}')\n",
    "ax[1].imshow(pred_mask)"
   ]
  },
  {
   "cell_type": "code",
   "execution_count": null,
   "metadata": {},
   "outputs": [],
   "source": []
  }
 ],
 "metadata": {
  "kernelspec": {
   "display_name": "Python 3 (ipykernel)",
   "language": "python",
   "name": "python3"
  },
  "language_info": {
   "codemirror_mode": {
    "name": "ipython",
    "version": 3
   },
   "file_extension": ".py",
   "mimetype": "text/x-python",
   "name": "python",
   "nbconvert_exporter": "python",
   "pygments_lexer": "ipython3",
   "version": "3.7.15"
  },
  "vscode": {
   "interpreter": {
    "hash": "13493a75fc0b130d173b6ad7ec2e651ad7106550c5be90615febe1aeb5d5f8b4"
   }
  }
 },
 "nbformat": 4,
 "nbformat_minor": 4
}
